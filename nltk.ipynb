{
 "cells": [
  {
   "cell_type": "code",
   "execution_count": 1,
   "metadata": {},
   "outputs": [],
   "source": [
    "import nltk"
   ]
  },
  {
   "cell_type": "markdown",
   "metadata": {},
   "source": [
    "# Sentence Tokenization\n",
    "\n",
    "Process of breaking paragragraph into sentences"
   ]
  },
  {
   "cell_type": "code",
   "execution_count": 2,
   "metadata": {},
   "outputs": [
    {
     "name": "stderr",
     "output_type": "stream",
     "text": [
      "[nltk_data] Downloading package punkt to\n",
      "[nltk_data]     C:\\Users\\aksha\\AppData\\Roaming\\nltk_data...\n"
     ]
    },
    {
     "name": "stdout",
     "output_type": "stream",
     "text": [
      "['Hello Miss.Swati, how are you doing today?', 'Today the weather seems great, and bangalore city is awesome.', 'What did you eat in breakfast today morning']\n"
     ]
    },
    {
     "name": "stderr",
     "output_type": "stream",
     "text": [
      "[nltk_data]   Package punkt is already up-to-date!\n"
     ]
    }
   ],
   "source": [
    "nltk.download('punkt')\n",
    "from nltk.tokenize import sent_tokenize\n",
    "text='Hello Miss.Swati, how are you doing today? Today the weather seems great, and bangalore city is awesome. What did you eat in breakfast today morning'\n",
    "tokenized_text=sent_tokenize(text)\n",
    "print(tokenized_text)"
   ]
  },
  {
   "cell_type": "markdown",
   "metadata": {},
   "source": [
    "# Word Tokenization"
   ]
  },
  {
   "cell_type": "code",
   "execution_count": 3,
   "metadata": {},
   "outputs": [
    {
     "name": "stdout",
     "output_type": "stream",
     "text": [
      "['Hello', 'Miss.Swati', ',', 'how', 'are', 'you', 'doing', 'today', '?', 'Today', 'the', 'weather', 'seems', 'great', ',', 'and', 'bangalore', 'city', 'is', 'awesome', '.', 'What', 'did', 'you', 'eat', 'in', 'breakfast', 'today', 'morning']\n"
     ]
    }
   ],
   "source": [
    "from nltk.tokenize import word_tokenize\n",
    "tokenized_word=word_tokenize(text)\n",
    "print(tokenized_word)"
   ]
  },
  {
   "cell_type": "markdown",
   "metadata": {},
   "source": [
    "# Conerting to Lowecase"
   ]
  },
  {
   "cell_type": "code",
   "execution_count": 4,
   "metadata": {},
   "outputs": [
    {
     "name": "stdout",
     "output_type": "stream",
     "text": [
      "['hello', 'miss.swati', ',', 'how', 'are', 'you', 'doing', 'today', '?', 'today', 'the', 'weather', 'seems', 'great', ',', 'and', 'bangalore', 'city', 'is', 'awesome', '.', 'what', 'did', 'you', 'eat', 'in', 'breakfast', 'today', 'morning']\n"
     ]
    }
   ],
   "source": [
    "tokens=[w.lower() for w in tokenized_word]\n",
    "print(tokens)"
   ]
  },
  {
   "cell_type": "markdown",
   "metadata": {},
   "source": [
    "# Noise Removal\n",
    "\n",
    "Removes unnessecarry words from the data"
   ]
  },
  {
   "cell_type": "code",
   "execution_count": 5,
   "metadata": {},
   "outputs": [],
   "source": [
    "not_required=['doing']\n",
    "def noise_removal(text):\n",
    "    words=text.split()\n",
    "    final_text=[word for word in words if word not in not_required]\n",
    "    final_text=\" \".join(final_text)\n",
    "    return final_text"
   ]
  },
  {
   "cell_type": "code",
   "execution_count": 6,
   "metadata": {},
   "outputs": [
    {
     "data": {
      "text/plain": [
       "'Hello Miss.Swati, how are you today? Today the weather seems great, and bangalore city is awesome. What did you eat in breakfast today morning'"
      ]
     },
     "execution_count": 6,
     "metadata": {},
     "output_type": "execute_result"
    }
   ],
   "source": [
    "noise_removal(text)"
   ]
  },
  {
   "cell_type": "markdown",
   "metadata": {},
   "source": [
    "# removing punctuation"
   ]
  },
  {
   "cell_type": "code",
   "execution_count": 7,
   "metadata": {},
   "outputs": [
    {
     "name": "stdout",
     "output_type": "stream",
     "text": [
      "['hello', 'how', 'are', 'you', 'doing', 'today', 'today', 'the', 'weather', 'seems', 'great', 'and', 'bangalore', 'city', 'is', 'awesome', 'what', 'did', 'you', 'eat', 'in', 'breakfast', 'today', 'morning']\n"
     ]
    }
   ],
   "source": [
    "words=[word for word in tokens if word.isalpha()]\n",
    "print(words)"
   ]
  },
  {
   "cell_type": "markdown",
   "metadata": {},
   "source": [
    "# Removing stopwords"
   ]
  },
  {
   "cell_type": "code",
   "execution_count": 8,
   "metadata": {},
   "outputs": [
    {
     "name": "stderr",
     "output_type": "stream",
     "text": [
      "[nltk_data] Downloading package stopwords to\n",
      "[nltk_data]     C:\\Users\\aksha\\AppData\\Roaming\\nltk_data...\n",
      "[nltk_data]   Package stopwords is already up-to-date!\n"
     ]
    },
    {
     "data": {
      "text/plain": [
       "True"
      ]
     },
     "execution_count": 8,
     "metadata": {},
     "output_type": "execute_result"
    }
   ],
   "source": [
    "nltk.download('stopwords')"
   ]
  },
  {
   "cell_type": "code",
   "execution_count": 9,
   "metadata": {},
   "outputs": [
    {
     "name": "stdout",
     "output_type": "stream",
     "text": [
      "{\"mustn't\", 'then', 'before', 'not', 'shan', 'such', \"weren't\", 's', 'nor', 'were', 'too', 'did', 'on', 'once', 'needn', \"wasn't\", 'he', 'how', \"shouldn't\", 'won', 'hasn', 'himself', 'this', 'there', 'was', 'out', 'what', 't', 'for', 'than', 'its', 'am', 'o', \"couldn't\", 'do', \"won't\", 'had', 'should', 'mightn', 'by', 'him', 'above', 'herself', \"she's\", 'me', 'doing', 'or', 'weren', 'are', 'having', 'you', \"you're\", 'yours', 'more', 'didn', \"you'll\", \"hadn't\", 'his', 'hadn', 'but', \"you'd\", 'ours', 'couldn', 'a', 'been', 'is', 'hers', 'isn', 'mustn', 'wouldn', 'ourselves', 'all', 'ain', 'as', 'it', 'will', 'most', 'haven', 'that', 'can', 'against', 'few', 'd', 'them', 'those', \"shan't\", \"should've\", 'no', 'when', 'she', \"isn't\", 'being', \"aren't\", 'my', 'so', \"don't\", 'further', 'her', 'where', 'and', \"it's\", 'at', 'itself', 'doesn', 'themselves', 'own', 'same', 'both', 'very', 'an', 'which', 'any', 'through', 'these', 'wasn', \"wouldn't\", 'into', 'again', 'from', 've', 're', \"doesn't\", 'ma', \"you've\", 'whom', 'the', 'll', 'of', 'during', 'here', 'down', 'our', 'between', 'after', 'i', 'over', 'because', 'each', \"needn't\", 'who', \"mightn't\", 'we', 'shouldn', 'just', 'they', 'aren', 'below', 'don', 'm', 'have', 'has', 'does', 'until', 'their', 'while', \"haven't\", 'under', 'off', \"didn't\", 'yourself', 'to', 'only', \"hasn't\", 'in', 'some', 'about', 'if', 'other', 'now', 'why', 'with', 'yourselves', 'up', 'be', \"that'll\", 'myself', 'your', 'y', 'theirs'}\n"
     ]
    }
   ],
   "source": [
    "from nltk.corpus import stopwords\n",
    "stop_words=set(stopwords.words('english'))\n",
    "print(stop_words)"
   ]
  },
  {
   "cell_type": "code",
   "execution_count": 10,
   "metadata": {},
   "outputs": [
    {
     "name": "stdout",
     "output_type": "stream",
     "text": [
      "['hello', 'today', 'today', 'weather', 'seems', 'great', 'bangalore', 'city', 'awesome', 'eat', 'breakfast', 'today', 'morning']\n"
     ]
    }
   ],
   "source": [
    "#Removing stpowords from the text\n",
    "words=[word for word in words if not word in stop_words]\n",
    "print(words)"
   ]
  },
  {
   "cell_type": "code",
   "execution_count": 12,
   "metadata": {},
   "outputs": [
    {
     "name": "stdout",
     "output_type": "stream",
     "text": [
      "Filtered Sentence: ['Hello Miss.Swati, how are you doing today?', 'Today the weather seems great, and bangalore city is awesome.', 'What did you eat in breakfast today morning']\n",
      "Stemmed Sentence: ['hello', 'miss.swati', ',', 'how', 'are', 'you', 'do', 'today', '?', 'today', 'the', 'weather', 'seem', 'great', ',', 'and', 'bangalor', 'citi', 'is', 'awesom', '.', 'what', 'did', 'you', 'eat', 'in', 'breakfast', 'today', 'morn']\n"
     ]
    }
   ],
   "source": [
    "words=word_tokenize(text)\n",
    "#Stemming\n",
    "from nltk.stem import PorterStemmer\n",
    "\n",
    "ps=PorterStemmer()\n",
    "stemmed_words=[]\n",
    "for w in words:\n",
    "    stemmed_words.append(ps.stem(w))\n",
    "    \n",
    "print('Filtered Sentence:',tokenized_text)\n",
    "print('Stemmed Sentence:',stemmed_words)\n"
   ]
  },
  {
   "cell_type": "code",
   "execution_count": 13,
   "metadata": {},
   "outputs": [
    {
     "name": "stderr",
     "output_type": "stream",
     "text": [
      "[nltk_data] Downloading package wordnet to\n",
      "[nltk_data]     C:\\Users\\aksha\\AppData\\Roaming\\nltk_data...\n",
      "[nltk_data]   Unzipping corpora\\wordnet.zip.\n"
     ]
    },
    {
     "name": "stdout",
     "output_type": "stream",
     "text": [
      "Lemmatized Word: fly\n",
      "Stemmed Word: fli\n"
     ]
    }
   ],
   "source": [
    "#Lexicon Normalization\n",
    "#Performing stemming and lemmatization\n",
    "nltk.download('wordnet')\n",
    "from nltk.stem.wordnet import WordNetLemmatizer\n",
    "lem=WordNetLemmatizer()\n",
    "\n",
    "from nltk.stem.porter import PorterStemmer\n",
    "stem=PorterStemmer()\n",
    "\n",
    "word='flying'\n",
    "print('Lemmatized Word:',lem.lemmatize(word,'v'))\n",
    "print('Stemmed Word:',stem.stem(word))"
   ]
  },
  {
   "cell_type": "code",
   "execution_count": 14,
   "metadata": {},
   "outputs": [
    {
     "name": "stdout",
     "output_type": "stream",
     "text": [
      "Lemmatized Word: good\n",
      "Stemmed Word: better\n"
     ]
    }
   ],
   "source": [
    "word='better'\n",
    "print('Lemmatized Word:',lem.lemmatize(word,'a'))\n",
    "print('Stemmed Word:',stem.stem(word))"
   ]
  }
 ],
 "metadata": {
  "kernelspec": {
   "display_name": "Python 3",
   "language": "python",
   "name": "python3"
  },
  "language_info": {
   "codemirror_mode": {
    "name": "ipython",
    "version": 3
   },
   "file_extension": ".py",
   "mimetype": "text/x-python",
   "name": "python",
   "nbconvert_exporter": "python",
   "pygments_lexer": "ipython3",
   "version": "3.6.5"
  }
 },
 "nbformat": 4,
 "nbformat_minor": 2
}
